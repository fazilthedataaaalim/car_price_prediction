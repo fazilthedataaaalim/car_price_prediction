{
 "cells": [
  {
   "cell_type": "markdown",
   "id": "6b6c61a3",
   "metadata": {},
   "source": [
    "### importing required libraries"
   ]
  },
  {
   "cell_type": "code",
   "execution_count": 27,
   "id": "54832628",
   "metadata": {},
   "outputs": [],
   "source": [
    "import numpy as np \n",
    "import pandas as pd \n",
    "import matplotlib.pyplot as plt\n",
    "%matplotlib inline\n",
    "import seaborn as sns\n",
    "from sklearn.model_selection import train_test_split\n",
    "from sklearn.linear_model import LinearRegression\n",
    "from sklearn.metrics import mean_absolute_error,mean_absolute_percentage_error,mean_squared_error,r2_score"
   ]
  },
  {
   "cell_type": "markdown",
   "id": "85af88d4",
   "metadata": {},
   "source": [
    "### import file for processing"
   ]
  },
  {
   "cell_type": "code",
   "execution_count": 28,
   "id": "a2314975",
   "metadata": {},
   "outputs": [
    {
     "data": {
      "text/html": [
       "<div>\n",
       "<style scoped>\n",
       "    .dataframe tbody tr th:only-of-type {\n",
       "        vertical-align: middle;\n",
       "    }\n",
       "\n",
       "    .dataframe tbody tr th {\n",
       "        vertical-align: top;\n",
       "    }\n",
       "\n",
       "    .dataframe thead th {\n",
       "        text-align: right;\n",
       "    }\n",
       "</style>\n",
       "<table border=\"1\" class=\"dataframe\">\n",
       "  <thead>\n",
       "    <tr style=\"text-align: right;\">\n",
       "      <th></th>\n",
       "      <th>Unnamed: 0</th>\n",
       "      <th>Name</th>\n",
       "      <th>Location</th>\n",
       "      <th>Year</th>\n",
       "      <th>Kilometers_Driven</th>\n",
       "      <th>Fuel_Type</th>\n",
       "      <th>Transmission</th>\n",
       "      <th>Owner_Type</th>\n",
       "      <th>Mileage</th>\n",
       "      <th>Engine</th>\n",
       "      <th>Power</th>\n",
       "      <th>Seats</th>\n",
       "      <th>New_Price</th>\n",
       "      <th>Price</th>\n",
       "    </tr>\n",
       "  </thead>\n",
       "  <tbody>\n",
       "    <tr>\n",
       "      <th>0</th>\n",
       "      <td>0</td>\n",
       "      <td>Maruti Wagon R LXI CNG</td>\n",
       "      <td>Mumbai</td>\n",
       "      <td>2010</td>\n",
       "      <td>72000</td>\n",
       "      <td>CNG</td>\n",
       "      <td>Manual</td>\n",
       "      <td>First</td>\n",
       "      <td>26.6 km/kg</td>\n",
       "      <td>998 CC</td>\n",
       "      <td>58.16 bhp</td>\n",
       "      <td>5.0</td>\n",
       "      <td>NaN</td>\n",
       "      <td>1.75</td>\n",
       "    </tr>\n",
       "    <tr>\n",
       "      <th>1</th>\n",
       "      <td>1</td>\n",
       "      <td>Hyundai Creta 1.6 CRDi SX Option</td>\n",
       "      <td>Pune</td>\n",
       "      <td>2015</td>\n",
       "      <td>41000</td>\n",
       "      <td>Diesel</td>\n",
       "      <td>Manual</td>\n",
       "      <td>First</td>\n",
       "      <td>19.67 kmpl</td>\n",
       "      <td>1582 CC</td>\n",
       "      <td>126.2 bhp</td>\n",
       "      <td>5.0</td>\n",
       "      <td>NaN</td>\n",
       "      <td>12.50</td>\n",
       "    </tr>\n",
       "    <tr>\n",
       "      <th>2</th>\n",
       "      <td>2</td>\n",
       "      <td>Honda Jazz V</td>\n",
       "      <td>Chennai</td>\n",
       "      <td>2011</td>\n",
       "      <td>46000</td>\n",
       "      <td>Petrol</td>\n",
       "      <td>Manual</td>\n",
       "      <td>First</td>\n",
       "      <td>18.2 kmpl</td>\n",
       "      <td>1199 CC</td>\n",
       "      <td>88.7 bhp</td>\n",
       "      <td>5.0</td>\n",
       "      <td>8.61 Lakh</td>\n",
       "      <td>4.50</td>\n",
       "    </tr>\n",
       "    <tr>\n",
       "      <th>3</th>\n",
       "      <td>3</td>\n",
       "      <td>Maruti Ertiga VDI</td>\n",
       "      <td>Chennai</td>\n",
       "      <td>2012</td>\n",
       "      <td>87000</td>\n",
       "      <td>Diesel</td>\n",
       "      <td>Manual</td>\n",
       "      <td>First</td>\n",
       "      <td>20.77 kmpl</td>\n",
       "      <td>1248 CC</td>\n",
       "      <td>88.76 bhp</td>\n",
       "      <td>7.0</td>\n",
       "      <td>NaN</td>\n",
       "      <td>6.00</td>\n",
       "    </tr>\n",
       "    <tr>\n",
       "      <th>4</th>\n",
       "      <td>4</td>\n",
       "      <td>Audi A4 New 2.0 TDI Multitronic</td>\n",
       "      <td>Coimbatore</td>\n",
       "      <td>2013</td>\n",
       "      <td>40670</td>\n",
       "      <td>Diesel</td>\n",
       "      <td>Automatic</td>\n",
       "      <td>Second</td>\n",
       "      <td>15.2 kmpl</td>\n",
       "      <td>1968 CC</td>\n",
       "      <td>140.8 bhp</td>\n",
       "      <td>5.0</td>\n",
       "      <td>NaN</td>\n",
       "      <td>17.74</td>\n",
       "    </tr>\n",
       "  </tbody>\n",
       "</table>\n",
       "</div>"
      ],
      "text/plain": [
       "   Unnamed: 0                              Name    Location  Year  \\\n",
       "0           0            Maruti Wagon R LXI CNG      Mumbai  2010   \n",
       "1           1  Hyundai Creta 1.6 CRDi SX Option        Pune  2015   \n",
       "2           2                      Honda Jazz V     Chennai  2011   \n",
       "3           3                 Maruti Ertiga VDI     Chennai  2012   \n",
       "4           4   Audi A4 New 2.0 TDI Multitronic  Coimbatore  2013   \n",
       "\n",
       "   Kilometers_Driven Fuel_Type Transmission Owner_Type     Mileage   Engine  \\\n",
       "0              72000       CNG       Manual      First  26.6 km/kg   998 CC   \n",
       "1              41000    Diesel       Manual      First  19.67 kmpl  1582 CC   \n",
       "2              46000    Petrol       Manual      First   18.2 kmpl  1199 CC   \n",
       "3              87000    Diesel       Manual      First  20.77 kmpl  1248 CC   \n",
       "4              40670    Diesel    Automatic     Second   15.2 kmpl  1968 CC   \n",
       "\n",
       "       Power  Seats  New_Price  Price  \n",
       "0  58.16 bhp    5.0        NaN   1.75  \n",
       "1  126.2 bhp    5.0        NaN  12.50  \n",
       "2   88.7 bhp    5.0  8.61 Lakh   4.50  \n",
       "3  88.76 bhp    7.0        NaN   6.00  \n",
       "4  140.8 bhp    5.0        NaN  17.74  "
      ]
     },
     "execution_count": 28,
     "metadata": {},
     "output_type": "execute_result"
    }
   ],
   "source": [
    "df=pd.read_csv('./car economy price.csv')\n",
    "df.head()"
   ]
  },
  {
   "cell_type": "code",
   "execution_count": 29,
   "id": "e84ed719",
   "metadata": {},
   "outputs": [
    {
     "data": {
      "text/html": [
       "<div>\n",
       "<style scoped>\n",
       "    .dataframe tbody tr th:only-of-type {\n",
       "        vertical-align: middle;\n",
       "    }\n",
       "\n",
       "    .dataframe tbody tr th {\n",
       "        vertical-align: top;\n",
       "    }\n",
       "\n",
       "    .dataframe thead th {\n",
       "        text-align: right;\n",
       "    }\n",
       "</style>\n",
       "<table border=\"1\" class=\"dataframe\">\n",
       "  <thead>\n",
       "    <tr style=\"text-align: right;\">\n",
       "      <th></th>\n",
       "      <th>Unnamed: 0</th>\n",
       "      <th>Name</th>\n",
       "      <th>Location</th>\n",
       "      <th>Year</th>\n",
       "      <th>Kilometers_Driven</th>\n",
       "      <th>Fuel_Type</th>\n",
       "      <th>Transmission</th>\n",
       "      <th>Owner_Type</th>\n",
       "      <th>Mileage</th>\n",
       "      <th>Engine</th>\n",
       "      <th>Power</th>\n",
       "      <th>Seats</th>\n",
       "      <th>New_Price</th>\n",
       "      <th>Price</th>\n",
       "    </tr>\n",
       "  </thead>\n",
       "  <tbody>\n",
       "    <tr>\n",
       "      <th>6014</th>\n",
       "      <td>6014</td>\n",
       "      <td>Maruti Swift VDI</td>\n",
       "      <td>Delhi</td>\n",
       "      <td>2014</td>\n",
       "      <td>27365</td>\n",
       "      <td>Diesel</td>\n",
       "      <td>Manual</td>\n",
       "      <td>First</td>\n",
       "      <td>28.4 kmpl</td>\n",
       "      <td>1248 CC</td>\n",
       "      <td>74 bhp</td>\n",
       "      <td>5.0</td>\n",
       "      <td>7.88 Lakh</td>\n",
       "      <td>4.75</td>\n",
       "    </tr>\n",
       "    <tr>\n",
       "      <th>6015</th>\n",
       "      <td>6015</td>\n",
       "      <td>Hyundai Xcent 1.1 CRDi S</td>\n",
       "      <td>Jaipur</td>\n",
       "      <td>2015</td>\n",
       "      <td>100000</td>\n",
       "      <td>Diesel</td>\n",
       "      <td>Manual</td>\n",
       "      <td>First</td>\n",
       "      <td>24.4 kmpl</td>\n",
       "      <td>1120 CC</td>\n",
       "      <td>71 bhp</td>\n",
       "      <td>5.0</td>\n",
       "      <td>NaN</td>\n",
       "      <td>4.00</td>\n",
       "    </tr>\n",
       "    <tr>\n",
       "      <th>6016</th>\n",
       "      <td>6016</td>\n",
       "      <td>Mahindra Xylo D4 BSIV</td>\n",
       "      <td>Jaipur</td>\n",
       "      <td>2012</td>\n",
       "      <td>55000</td>\n",
       "      <td>Diesel</td>\n",
       "      <td>Manual</td>\n",
       "      <td>Second</td>\n",
       "      <td>14.0 kmpl</td>\n",
       "      <td>2498 CC</td>\n",
       "      <td>112 bhp</td>\n",
       "      <td>8.0</td>\n",
       "      <td>NaN</td>\n",
       "      <td>2.90</td>\n",
       "    </tr>\n",
       "    <tr>\n",
       "      <th>6017</th>\n",
       "      <td>6017</td>\n",
       "      <td>Maruti Wagon R VXI</td>\n",
       "      <td>Kolkata</td>\n",
       "      <td>2013</td>\n",
       "      <td>46000</td>\n",
       "      <td>Petrol</td>\n",
       "      <td>Manual</td>\n",
       "      <td>First</td>\n",
       "      <td>18.9 kmpl</td>\n",
       "      <td>998 CC</td>\n",
       "      <td>67.1 bhp</td>\n",
       "      <td>5.0</td>\n",
       "      <td>NaN</td>\n",
       "      <td>2.65</td>\n",
       "    </tr>\n",
       "    <tr>\n",
       "      <th>6018</th>\n",
       "      <td>6018</td>\n",
       "      <td>Chevrolet Beat Diesel</td>\n",
       "      <td>Hyderabad</td>\n",
       "      <td>2011</td>\n",
       "      <td>47000</td>\n",
       "      <td>Diesel</td>\n",
       "      <td>Manual</td>\n",
       "      <td>First</td>\n",
       "      <td>25.44 kmpl</td>\n",
       "      <td>936 CC</td>\n",
       "      <td>57.6 bhp</td>\n",
       "      <td>5.0</td>\n",
       "      <td>NaN</td>\n",
       "      <td>2.50</td>\n",
       "    </tr>\n",
       "  </tbody>\n",
       "</table>\n",
       "</div>"
      ],
      "text/plain": [
       "      Unnamed: 0                      Name   Location  Year  \\\n",
       "6014        6014          Maruti Swift VDI      Delhi  2014   \n",
       "6015        6015  Hyundai Xcent 1.1 CRDi S     Jaipur  2015   \n",
       "6016        6016     Mahindra Xylo D4 BSIV     Jaipur  2012   \n",
       "6017        6017        Maruti Wagon R VXI    Kolkata  2013   \n",
       "6018        6018     Chevrolet Beat Diesel  Hyderabad  2011   \n",
       "\n",
       "      Kilometers_Driven Fuel_Type Transmission Owner_Type     Mileage  \\\n",
       "6014              27365    Diesel       Manual      First   28.4 kmpl   \n",
       "6015             100000    Diesel       Manual      First   24.4 kmpl   \n",
       "6016              55000    Diesel       Manual     Second   14.0 kmpl   \n",
       "6017              46000    Petrol       Manual      First   18.9 kmpl   \n",
       "6018              47000    Diesel       Manual      First  25.44 kmpl   \n",
       "\n",
       "       Engine     Power  Seats  New_Price  Price  \n",
       "6014  1248 CC    74 bhp    5.0  7.88 Lakh   4.75  \n",
       "6015  1120 CC    71 bhp    5.0        NaN   4.00  \n",
       "6016  2498 CC   112 bhp    8.0        NaN   2.90  \n",
       "6017   998 CC  67.1 bhp    5.0        NaN   2.65  \n",
       "6018   936 CC  57.6 bhp    5.0        NaN   2.50  "
      ]
     },
     "execution_count": 29,
     "metadata": {},
     "output_type": "execute_result"
    }
   ],
   "source": [
    "df.tail()"
   ]
  },
  {
   "cell_type": "markdown",
   "id": "dd74683d",
   "metadata": {},
   "source": [
    "### checking for missing values\n"
   ]
  },
  {
   "cell_type": "code",
   "execution_count": 30,
   "id": "dcd6e655",
   "metadata": {},
   "outputs": [
    {
     "data": {
      "text/plain": [
       "Unnamed: 0              0\n",
       "Name                    0\n",
       "Location                0\n",
       "Year                    0\n",
       "Kilometers_Driven       0\n",
       "Fuel_Type               0\n",
       "Transmission            0\n",
       "Owner_Type              0\n",
       "Mileage                 2\n",
       "Engine                 36\n",
       "Power                  36\n",
       "Seats                  42\n",
       "New_Price            5195\n",
       "Price                   0\n",
       "dtype: int64"
      ]
     },
     "execution_count": 30,
     "metadata": {},
     "output_type": "execute_result"
    }
   ],
   "source": [
    "df.isna().sum()"
   ]
  },
  {
   "cell_type": "markdown",
   "id": "a0ee3ab3",
   "metadata": {},
   "source": [
    "### dropping unnecessary columns"
   ]
  },
  {
   "cell_type": "code",
   "execution_count": 31,
   "id": "103630a0",
   "metadata": {},
   "outputs": [],
   "source": [
    "df.drop(['Unnamed: 0','Name','New_Price'],axis=1,inplace=True)"
   ]
  },
  {
   "cell_type": "code",
   "execution_count": 32,
   "id": "a579c6a1",
   "metadata": {},
   "outputs": [
    {
     "name": "stdout",
     "output_type": "stream",
     "text": [
      "<class 'pandas.core.frame.DataFrame'>\n",
      "RangeIndex: 6019 entries, 0 to 6018\n",
      "Data columns (total 11 columns):\n",
      " #   Column             Non-Null Count  Dtype  \n",
      "---  ------             --------------  -----  \n",
      " 0   Location           6019 non-null   object \n",
      " 1   Year               6019 non-null   int64  \n",
      " 2   Kilometers_Driven  6019 non-null   int64  \n",
      " 3   Fuel_Type          6019 non-null   object \n",
      " 4   Transmission       6019 non-null   object \n",
      " 5   Owner_Type         6019 non-null   object \n",
      " 6   Mileage            6017 non-null   object \n",
      " 7   Engine             5983 non-null   object \n",
      " 8   Power              5983 non-null   object \n",
      " 9   Seats              5977 non-null   float64\n",
      " 10  Price              6019 non-null   float64\n",
      "dtypes: float64(2), int64(2), object(7)\n",
      "memory usage: 517.4+ KB\n"
     ]
    }
   ],
   "source": [
    "df.info()"
   ]
  },
  {
   "cell_type": "code",
   "execution_count": 33,
   "id": "9a6f65f9",
   "metadata": {},
   "outputs": [
    {
     "data": {
      "text/plain": [
       "Location              0\n",
       "Year                  0\n",
       "Kilometers_Driven     0\n",
       "Fuel_Type             0\n",
       "Transmission          0\n",
       "Owner_Type            0\n",
       "Mileage               2\n",
       "Engine               36\n",
       "Power                36\n",
       "Seats                42\n",
       "Price                 0\n",
       "dtype: int64"
      ]
     },
     "execution_count": 33,
     "metadata": {},
     "output_type": "execute_result"
    }
   ],
   "source": [
    "df.isna().sum()"
   ]
  },
  {
   "cell_type": "code",
   "execution_count": 34,
   "id": "7f4f8669",
   "metadata": {},
   "outputs": [
    {
     "data": {
      "text/plain": [
       "Location               11\n",
       "Year                   22\n",
       "Kilometers_Driven    3093\n",
       "Fuel_Type               5\n",
       "Transmission            2\n",
       "Owner_Type              4\n",
       "Mileage               442\n",
       "Engine                146\n",
       "Power                 372\n",
       "Seats                   9\n",
       "Price                1373\n",
       "dtype: int64"
      ]
     },
     "execution_count": 34,
     "metadata": {},
     "output_type": "execute_result"
    }
   ],
   "source": [
    "df.nunique()"
   ]
  },
  {
   "cell_type": "code",
   "execution_count": 35,
   "id": "4d0a0554",
   "metadata": {},
   "outputs": [
    {
     "data": {
      "text/plain": [
       "Mumbai        790\n",
       "Hyderabad     742\n",
       "Kochi         651\n",
       "Coimbatore    636\n",
       "Pune          622\n",
       "Delhi         554\n",
       "Kolkata       535\n",
       "Chennai       494\n",
       "Jaipur        413\n",
       "Bangalore     358\n",
       "Ahmedabad     224\n",
       "Name: Location, dtype: int64"
      ]
     },
     "execution_count": 35,
     "metadata": {},
     "output_type": "execute_result"
    }
   ],
   "source": [
    "df['Location'].value_counts()"
   ]
  },
  {
   "cell_type": "code",
   "execution_count": 36,
   "id": "22a56c77",
   "metadata": {},
   "outputs": [
    {
     "data": {
      "text/plain": [
       "<BarContainer object of 11 artists>"
      ]
     },
     "execution_count": 36,
     "metadata": {},
     "output_type": "execute_result"
    },
    {
     "data": {
      "image/png": "[encoded data removed]",
      "text/plain": [
       "<Figure size 1500x700 with 1 Axes>"
      ]
     },
     "metadata": {},
     "output_type": "display_data"
    }
   ],
   "source": [
    "plt.figure(figsize=(15,7))\n",
    "plt.bar(df['Location'].value_counts().index,df['Location'].value_counts().values)"
   ]
  },
  {
   "cell_type": "code",
   "execution_count": 37,
   "id": "22c3eb4b",
   "metadata": {},
   "outputs": [
    {
     "data": {
      "text/plain": [
       "Diesel      3205\n",
       "Petrol      2746\n",
       "CNG           56\n",
       "LPG           10\n",
       "Electric       2\n",
       "Name: Fuel_Type, dtype: int64"
      ]
     },
     "execution_count": 37,
     "metadata": {},
     "output_type": "execute_result"
    }
   ],
   "source": [
    "df['Fuel_Type'].value_counts()"
   ]
  },
  {
   "cell_type": "code",
   "execution_count": 38,
   "id": "16c23498",
   "metadata": {},
   "outputs": [
    {
     "data": {
      "text/plain": [
       "<BarContainer object of 5 artists>"
      ]
     },
     "execution_count": 38,
     "metadata": {},
     "output_type": "execute_result"
    },
    {
     "data": {
      "image/png": "[encoded data removed]",
      "text/plain": [
       "<Figure size 500x1000 with 1 Axes>"
      ]
     },
     "metadata": {},
     "output_type": "display_data"
    }
   ],
   "source": [
    "plt.figure(figsize=(5,10))\n",
    "plt.bar(df['Fuel_Type'].value_counts().index,df['Fuel_Type'].value_counts().values,color='y')"
   ]
  },
  {
   "cell_type": "code",
   "execution_count": 39,
   "id": "e49b534c",
   "metadata": {},
   "outputs": [
    {
     "data": {
      "text/plain": [
       "Manual       4299\n",
       "Automatic    1720\n",
       "Name: Transmission, dtype: int64"
      ]
     },
     "execution_count": 39,
     "metadata": {},
     "output_type": "execute_result"
    }
   ],
   "source": [
    "df['Transmission'].value_counts()"
   ]
  },
  {
   "cell_type": "code",
   "execution_count": 40,
   "id": "6e95382f",
   "metadata": {},
   "outputs": [
    {
     "data": {
      "text/plain": [
       "<BarContainer object of 2 artists>"
      ]
     },
     "execution_count": 40,
     "metadata": {},
     "output_type": "execute_result"
    },
    {
     "data": {
      "image/png": "[encoded data removed]",
      "text/plain": [
       "<Figure size 640x480 with 1 Axes>"
      ]
     },
     "metadata": {},
     "output_type": "display_data"
    }
   ],
   "source": [
    "plt.bar(df['Transmission'].value_counts().index,df['Transmission'].value_counts().values,color='r')"
   ]
  },
  {
   "cell_type": "markdown",
   "id": "3a956300",
   "metadata": {},
   "source": [
    "by using 'get dummies' the data set gonna be encoded \n"
   ]
  },
  {
   "cell_type": "code",
   "execution_count": 41,
   "id": "312a4957",
   "metadata": {},
   "outputs": [
    {
     "name": "stdout",
     "output_type": "stream",
     "text": [
      "      Location_Bangalore  Location_Chennai  Location_Coimbatore  \\\n",
      "0                      0                 0                    0   \n",
      "1                      0                 0                    0   \n",
      "2                      0                 1                    0   \n",
      "3                      0                 1                    0   \n",
      "4                      0                 0                    1   \n",
      "...                  ...               ...                  ...   \n",
      "6014                   0                 0                    0   \n",
      "6015                   0                 0                    0   \n",
      "6016                   0                 0                    0   \n",
      "6017                   0                 0                    0   \n",
      "6018                   0                 0                    0   \n",
      "\n",
      "      Location_Delhi  Location_Hyderabad  Location_Jaipur  Location_Kochi  \\\n",
      "0                  0                   0                0               0   \n",
      "1                  0                   0                0               0   \n",
      "2                  0                   0                0               0   \n",
      "3                  0                   0                0               0   \n",
      "4                  0                   0                0               0   \n",
      "...              ...                 ...              ...             ...   \n",
      "6014               1                   0                0               0   \n",
      "6015               0                   0                1               0   \n",
      "6016               0                   0                1               0   \n",
      "6017               0                   0                0               0   \n",
      "6018               0                   1                0               0   \n",
      "\n",
      "      Location_Kolkata  Location_Mumbai  Location_Pune  Fuel_Type_Diesel  \\\n",
      "0                    0                1              0                 0   \n",
      "1                    0                0              1                 1   \n",
      "2                    0                0              0                 0   \n",
      "3                    0                0              0                 1   \n",
      "4                    0                0              0                 1   \n",
      "...                ...              ...            ...               ...   \n",
      "6014                 0                0              0                 1   \n",
      "6015                 0                0              0                 1   \n",
      "6016                 0                0              0                 1   \n",
      "6017                 1                0              0                 0   \n",
      "6018                 0                0              0                 1   \n",
      "\n",
      "      Fuel_Type_Electric  Fuel_Type_LPG  Fuel_Type_Petrol  \\\n",
      "0                      0              0                 0   \n",
      "1                      0              0                 0   \n",
      "2                      0              0                 1   \n",
      "3                      0              0                 0   \n",
      "4                      0              0                 0   \n",
      "...                  ...            ...               ...   \n",
      "6014                   0              0                 0   \n",
      "6015                   0              0                 0   \n",
      "6016                   0              0                 0   \n",
      "6017                   0              0                 1   \n",
      "6018                   0              0                 0   \n",
      "\n",
      "      Transmission_Manual  Owner_Type_Fourth & Above  Owner_Type_Second  \\\n",
      "0                       1                          0                  0   \n",
      "1                       1                          0                  0   \n",
      "2                       1                          0                  0   \n",
      "3                       1                          0                  0   \n",
      "4                       0                          0                  1   \n",
      "...                   ...                        ...                ...   \n",
      "6014                    1                          0                  0   \n",
      "6015                    1                          0                  0   \n",
      "6016                    1                          0                  1   \n",
      "6017                    1                          0                  0   \n",
      "6018                    1                          0                  0   \n",
      "\n",
      "      Owner_Type_Third  \n",
      "0                    0  \n",
      "1                    0  \n",
      "2                    0  \n",
      "3                    0  \n",
      "4                    0  \n",
      "...                ...  \n",
      "6014                 0  \n",
      "6015                 0  \n",
      "6016                 0  \n",
      "6017                 0  \n",
      "6018                 0  \n",
      "\n",
      "[6019 rows x 18 columns]\n"
     ]
    }
   ],
   "source": [
    "dummy=pd.get_dummies(df[['Location','Fuel_Type','Transmission','Owner_Type']],drop_first=True)\n",
    "print(dummy)"
   ]
  },
  {
   "cell_type": "markdown",
   "id": "cd30eedb",
   "metadata": {},
   "source": [
    "### gonna concat between the dummies and old df"
   ]
  },
  {
   "cell_type": "code",
   "execution_count": 42,
   "id": "3149c9c4",
   "metadata": {},
   "outputs": [
    {
     "data": {
      "text/html": [
       "<div>\n",
       "<style scoped>\n",
       "    .dataframe tbody tr th:only-of-type {\n",
       "        vertical-align: middle;\n",
       "    }\n",
       "\n",
       "    .dataframe tbody tr th {\n",
       "        vertical-align: top;\n",
       "    }\n",
       "\n",
       "    .dataframe thead th {\n",
       "        text-align: right;\n",
       "    }\n",
       "</style>\n",
       "<table border=\"1\" class=\"dataframe\">\n",
       "  <thead>\n",
       "    <tr style=\"text-align: right;\">\n",
       "      <th></th>\n",
       "      <th>Location_Bangalore</th>\n",
       "      <th>Location_Chennai</th>\n",
       "      <th>Location_Coimbatore</th>\n",
       "      <th>Location_Delhi</th>\n",
       "      <th>Location_Hyderabad</th>\n",
       "      <th>Location_Jaipur</th>\n",
       "      <th>Location_Kochi</th>\n",
       "      <th>Location_Kolkata</th>\n",
       "      <th>Location_Mumbai</th>\n",
       "      <th>Location_Pune</th>\n",
       "      <th>...</th>\n",
       "      <th>Year</th>\n",
       "      <th>Kilometers_Driven</th>\n",
       "      <th>Fuel_Type</th>\n",
       "      <th>Transmission</th>\n",
       "      <th>Owner_Type</th>\n",
       "      <th>Mileage</th>\n",
       "      <th>Engine</th>\n",
       "      <th>Power</th>\n",
       "      <th>Seats</th>\n",
       "      <th>Price</th>\n",
       "    </tr>\n",
       "  </thead>\n",
       "  <tbody>\n",
       "    <tr>\n",
       "      <th>0</th>\n",
       "      <td>0</td>\n",
       "      <td>0</td>\n",
       "      <td>0</td>\n",
       "      <td>0</td>\n",
       "      <td>0</td>\n",
       "      <td>0</td>\n",
       "      <td>0</td>\n",
       "      <td>0</td>\n",
       "      <td>1</td>\n",
       "      <td>0</td>\n",
       "      <td>...</td>\n",
       "      <td>2010</td>\n",
       "      <td>72000</td>\n",
       "      <td>CNG</td>\n",
       "      <td>Manual</td>\n",
       "      <td>First</td>\n",
       "      <td>26.6 km/kg</td>\n",
       "      <td>998 CC</td>\n",
       "      <td>58.16 bhp</td>\n",
       "      <td>5.0</td>\n",
       "      <td>1.75</td>\n",
       "    </tr>\n",
       "    <tr>\n",
       "      <th>1</th>\n",
       "      <td>0</td>\n",
       "      <td>0</td>\n",
       "      <td>0</td>\n",
       "      <td>0</td>\n",
       "      <td>0</td>\n",
       "      <td>0</td>\n",
       "      <td>0</td>\n",
       "      <td>0</td>\n",
       "      <td>0</td>\n",
       "      <td>1</td>\n",
       "      <td>...</td>\n",
       "      <td>2015</td>\n",
       "      <td>41000</td>\n",
       "      <td>Diesel</td>\n",
       "      <td>Manual</td>\n",
       "      <td>First</td>\n",
       "      <td>19.67 kmpl</td>\n",
       "      <td>1582 CC</td>\n",
       "      <td>126.2 bhp</td>\n",
       "      <td>5.0</td>\n",
       "      <td>12.50</td>\n",
       "    </tr>\n",
       "    <tr>\n",
       "      <th>2</th>\n",
       "      <td>0</td>\n",
       "      <td>1</td>\n",
       "      <td>0</td>\n",
       "      <td>0</td>\n",
       "      <td>0</td>\n",
       "      <td>0</td>\n",
       "      <td>0</td>\n",
       "      <td>0</td>\n",
       "      <td>0</td>\n",
       "      <td>0</td>\n",
       "      <td>...</td>\n",
       "      <td>2011</td>\n",
       "      <td>46000</td>\n",
       "      <td>Petrol</td>\n",
       "      <td>Manual</td>\n",
       "      <td>First</td>\n",
       "      <td>18.2 kmpl</td>\n",
       "      <td>1199 CC</td>\n",
       "      <td>88.7 bhp</td>\n",
       "      <td>5.0</td>\n",
       "      <td>4.50</td>\n",
       "    </tr>\n",
       "    <tr>\n",
       "      <th>3</th>\n",
       "      <td>0</td>\n",
       "      <td>1</td>\n",
       "      <td>0</td>\n",
       "      <td>0</td>\n",
       "      <td>0</td>\n",
       "      <td>0</td>\n",
       "      <td>0</td>\n",
       "      <td>0</td>\n",
       "      <td>0</td>\n",
       "      <td>0</td>\n",
       "      <td>...</td>\n",
       "      <td>2012</td>\n",
       "      <td>87000</td>\n",
       "      <td>Diesel</td>\n",
       "      <td>Manual</td>\n",
       "      <td>First</td>\n",
       "      <td>20.77 kmpl</td>\n",
       "      <td>1248 CC</td>\n",
       "      <td>88.76 bhp</td>\n",
       "      <td>7.0</td>\n",
       "      <td>6.00</td>\n",
       "    </tr>\n",
       "    <tr>\n",
       "      <th>4</th>\n",
       "      <td>0</td>\n",
       "      <td>0</td>\n",
       "      <td>1</td>\n",
       "      <td>0</td>\n",
       "      <td>0</td>\n",
       "      <td>0</td>\n",
       "      <td>0</td>\n",
       "      <td>0</td>\n",
       "      <td>0</td>\n",
       "      <td>0</td>\n",
       "      <td>...</td>\n",
       "      <td>2013</td>\n",
       "      <td>40670</td>\n",
       "      <td>Diesel</td>\n",
       "      <td>Automatic</td>\n",
       "      <td>Second</td>\n",
       "      <td>15.2 kmpl</td>\n",
       "      <td>1968 CC</td>\n",
       "      <td>140.8 bhp</td>\n",
       "      <td>5.0</td>\n",
       "      <td>17.74</td>\n",
       "    </tr>\n",
       "  </tbody>\n",
       "</table>\n",
       "<p>5 rows × 29 columns</p>\n",
       "</div>"
      ],
      "text/plain": [
       "   Location_Bangalore  Location_Chennai  Location_Coimbatore  Location_Delhi  \\\n",
       "0                   0                 0                    0               0   \n",
       "1                   0                 0                    0               0   \n",
       "2                   0                 1                    0               0   \n",
       "3                   0                 1                    0               0   \n",
       "4                   0                 0                    1               0   \n",
       "\n",
       "   Location_Hyderabad  Location_Jaipur  Location_Kochi  Location_Kolkata  \\\n",
       "0                   0                0               0                 0   \n",
       "1                   0                0               0                 0   \n",
       "2                   0                0               0                 0   \n",
       "3                   0                0               0                 0   \n",
       "4                   0                0               0                 0   \n",
       "\n",
       "   Location_Mumbai  Location_Pune  ...  Year  Kilometers_Driven  Fuel_Type  \\\n",
       "0                1              0  ...  2010              72000        CNG   \n",
       "1                0              1  ...  2015              41000     Diesel   \n",
       "2                0              0  ...  2011              46000     Petrol   \n",
       "3                0              0  ...  2012              87000     Diesel   \n",
       "4                0              0  ...  2013              40670     Diesel   \n",
       "\n",
       "   Transmission  Owner_Type     Mileage   Engine      Power Seats  Price  \n",
       "0        Manual       First  26.6 km/kg   998 CC  58.16 bhp   5.0   1.75  \n",
       "1        Manual       First  19.67 kmpl  1582 CC  126.2 bhp   5.0  12.50  \n",
       "2        Manual       First   18.2 kmpl  1199 CC   88.7 bhp   5.0   4.50  \n",
       "3        Manual       First  20.77 kmpl  1248 CC  88.76 bhp   7.0   6.00  \n",
       "4     Automatic      Second   15.2 kmpl  1968 CC  140.8 bhp   5.0  17.74  \n",
       "\n",
       "[5 rows x 29 columns]"
      ]
     },
     "execution_count": 42,
     "metadata": {},
     "output_type": "execute_result"
    }
   ],
   "source": [
    "df1=pd.concat([dummy,df],axis=1)\n",
    "df1.head()"
   ]
  },
  {
   "cell_type": "code",
   "execution_count": 43,
   "id": "44711105",
   "metadata": {},
   "outputs": [
    {
     "data": {
      "text/plain": [
       "Location_Bangalore            0\n",
       "Location_Chennai              0\n",
       "Location_Coimbatore           0\n",
       "Location_Delhi                0\n",
       "Location_Hyderabad            0\n",
       "Location_Jaipur               0\n",
       "Location_Kochi                0\n",
       "Location_Kolkata              0\n",
       "Location_Mumbai               0\n",
       "Location_Pune                 0\n",
       "Fuel_Type_Diesel              0\n",
       "Fuel_Type_Electric            0\n",
       "Fuel_Type_LPG                 0\n",
       "Fuel_Type_Petrol              0\n",
       "Transmission_Manual           0\n",
       "Owner_Type_Fourth & Above     0\n",
       "Owner_Type_Second             0\n",
       "Owner_Type_Third              0\n",
       "Location                      0\n",
       "Year                          0\n",
       "Kilometers_Driven             0\n",
       "Fuel_Type                     0\n",
       "Transmission                  0\n",
       "Owner_Type                    0\n",
       "Mileage                       2\n",
       "Engine                       36\n",
       "Power                        36\n",
       "Seats                        42\n",
       "Price                         0\n",
       "dtype: int64"
      ]
     },
     "execution_count": 43,
     "metadata": {},
     "output_type": "execute_result"
    }
   ],
   "source": [
    "df1.isna().sum()"
   ]
  },
  {
   "cell_type": "markdown",
   "id": "697fce97",
   "metadata": {},
   "source": [
    "### combining between the two dataframes need to eliminate the parent columns were we made dummies"
   ]
  },
  {
   "cell_type": "code",
   "execution_count": 44,
   "id": "6c3b92cf",
   "metadata": {},
   "outputs": [],
   "source": [
    "df1.drop(['Location','Fuel_Type','Transmission','Owner_Type','Fuel_Type_Electric'],axis=1,inplace=True)"
   ]
  },
  {
   "cell_type": "code",
   "execution_count": 45,
   "id": "6d73f624",
   "metadata": {},
   "outputs": [
    {
     "data": {
      "text/html": [
       "<div>\n",
       "<style scoped>\n",
       "    .dataframe tbody tr th:only-of-type {\n",
       "        vertical-align: middle;\n",
       "    }\n",
       "\n",
       "    .dataframe tbody tr th {\n",
       "        vertical-align: top;\n",
       "    }\n",
       "\n",
       "    .dataframe thead th {\n",
       "        text-align: right;\n",
       "    }\n",
       "</style>\n",
       "<table border=\"1\" class=\"dataframe\">\n",
       "  <thead>\n",
       "    <tr style=\"text-align: right;\">\n",
       "      <th></th>\n",
       "      <th>Location_Bangalore</th>\n",
       "      <th>Location_Chennai</th>\n",
       "      <th>Location_Coimbatore</th>\n",
       "      <th>Location_Delhi</th>\n",
       "      <th>Location_Hyderabad</th>\n",
       "      <th>Location_Jaipur</th>\n",
       "      <th>Location_Kochi</th>\n",
       "      <th>Location_Kolkata</th>\n",
       "      <th>Location_Mumbai</th>\n",
       "      <th>Location_Pune</th>\n",
       "      <th>...</th>\n",
       "      <th>Owner_Type_Fourth &amp; Above</th>\n",
       "      <th>Owner_Type_Second</th>\n",
       "      <th>Owner_Type_Third</th>\n",
       "      <th>Year</th>\n",
       "      <th>Kilometers_Driven</th>\n",
       "      <th>Mileage</th>\n",
       "      <th>Engine</th>\n",
       "      <th>Power</th>\n",
       "      <th>Seats</th>\n",
       "      <th>Price</th>\n",
       "    </tr>\n",
       "  </thead>\n",
       "  <tbody>\n",
       "    <tr>\n",
       "      <th>0</th>\n",
       "      <td>0</td>\n",
       "      <td>0</td>\n",
       "      <td>0</td>\n",
       "      <td>0</td>\n",
       "      <td>0</td>\n",
       "      <td>0</td>\n",
       "      <td>0</td>\n",
       "      <td>0</td>\n",
       "      <td>1</td>\n",
       "      <td>0</td>\n",
       "      <td>...</td>\n",
       "      <td>0</td>\n",
       "      <td>0</td>\n",
       "      <td>0</td>\n",
       "      <td>2010</td>\n",
       "      <td>72000</td>\n",
       "      <td>26.6 km/kg</td>\n",
       "      <td>998 CC</td>\n",
       "      <td>58.16 bhp</td>\n",
       "      <td>5.0</td>\n",
       "      <td>1.75</td>\n",
       "    </tr>\n",
       "    <tr>\n",
       "      <th>1</th>\n",
       "      <td>0</td>\n",
       "      <td>0</td>\n",
       "      <td>0</td>\n",
       "      <td>0</td>\n",
       "      <td>0</td>\n",
       "      <td>0</td>\n",
       "      <td>0</td>\n",
       "      <td>0</td>\n",
       "      <td>0</td>\n",
       "      <td>1</td>\n",
       "      <td>...</td>\n",
       "      <td>0</td>\n",
       "      <td>0</td>\n",
       "      <td>0</td>\n",
       "      <td>2015</td>\n",
       "      <td>41000</td>\n",
       "      <td>19.67 kmpl</td>\n",
       "      <td>1582 CC</td>\n",
       "      <td>126.2 bhp</td>\n",
       "      <td>5.0</td>\n",
       "      <td>12.50</td>\n",
       "    </tr>\n",
       "    <tr>\n",
       "      <th>2</th>\n",
       "      <td>0</td>\n",
       "      <td>1</td>\n",
       "      <td>0</td>\n",
       "      <td>0</td>\n",
       "      <td>0</td>\n",
       "      <td>0</td>\n",
       "      <td>0</td>\n",
       "      <td>0</td>\n",
       "      <td>0</td>\n",
       "      <td>0</td>\n",
       "      <td>...</td>\n",
       "      <td>0</td>\n",
       "      <td>0</td>\n",
       "      <td>0</td>\n",
       "      <td>2011</td>\n",
       "      <td>46000</td>\n",
       "      <td>18.2 kmpl</td>\n",
       "      <td>1199 CC</td>\n",
       "      <td>88.7 bhp</td>\n",
       "      <td>5.0</td>\n",
       "      <td>4.50</td>\n",
       "    </tr>\n",
       "    <tr>\n",
       "      <th>3</th>\n",
       "      <td>0</td>\n",
       "      <td>1</td>\n",
       "      <td>0</td>\n",
       "      <td>0</td>\n",
       "      <td>0</td>\n",
       "      <td>0</td>\n",
       "      <td>0</td>\n",
       "      <td>0</td>\n",
       "      <td>0</td>\n",
       "      <td>0</td>\n",
       "      <td>...</td>\n",
       "      <td>0</td>\n",
       "      <td>0</td>\n",
       "      <td>0</td>\n",
       "      <td>2012</td>\n",
       "      <td>87000</td>\n",
       "      <td>20.77 kmpl</td>\n",
       "      <td>1248 CC</td>\n",
       "      <td>88.76 bhp</td>\n",
       "      <td>7.0</td>\n",
       "      <td>6.00</td>\n",
       "    </tr>\n",
       "    <tr>\n",
       "      <th>4</th>\n",
       "      <td>0</td>\n",
       "      <td>0</td>\n",
       "      <td>1</td>\n",
       "      <td>0</td>\n",
       "      <td>0</td>\n",
       "      <td>0</td>\n",
       "      <td>0</td>\n",
       "      <td>0</td>\n",
       "      <td>0</td>\n",
       "      <td>0</td>\n",
       "      <td>...</td>\n",
       "      <td>0</td>\n",
       "      <td>1</td>\n",
       "      <td>0</td>\n",
       "      <td>2013</td>\n",
       "      <td>40670</td>\n",
       "      <td>15.2 kmpl</td>\n",
       "      <td>1968 CC</td>\n",
       "      <td>140.8 bhp</td>\n",
       "      <td>5.0</td>\n",
       "      <td>17.74</td>\n",
       "    </tr>\n",
       "  </tbody>\n",
       "</table>\n",
       "<p>5 rows × 24 columns</p>\n",
       "</div>"
      ],
      "text/plain": [
       "   Location_Bangalore  Location_Chennai  Location_Coimbatore  Location_Delhi  \\\n",
       "0                   0                 0                    0               0   \n",
       "1                   0                 0                    0               0   \n",
       "2                   0                 1                    0               0   \n",
       "3                   0                 1                    0               0   \n",
       "4                   0                 0                    1               0   \n",
       "\n",
       "   Location_Hyderabad  Location_Jaipur  Location_Kochi  Location_Kolkata  \\\n",
       "0                   0                0               0                 0   \n",
       "1                   0                0               0                 0   \n",
       "2                   0                0               0                 0   \n",
       "3                   0                0               0                 0   \n",
       "4                   0                0               0                 0   \n",
       "\n",
       "   Location_Mumbai  Location_Pune  ...  Owner_Type_Fourth & Above  \\\n",
       "0                1              0  ...                          0   \n",
       "1                0              1  ...                          0   \n",
       "2                0              0  ...                          0   \n",
       "3                0              0  ...                          0   \n",
       "4                0              0  ...                          0   \n",
       "\n",
       "   Owner_Type_Second  Owner_Type_Third  Year  Kilometers_Driven     Mileage  \\\n",
       "0                  0                 0  2010              72000  26.6 km/kg   \n",
       "1                  0                 0  2015              41000  19.67 kmpl   \n",
       "2                  0                 0  2011              46000   18.2 kmpl   \n",
       "3                  0                 0  2012              87000  20.77 kmpl   \n",
       "4                  1                 0  2013              40670   15.2 kmpl   \n",
       "\n",
       "    Engine      Power  Seats  Price  \n",
       "0   998 CC  58.16 bhp    5.0   1.75  \n",
       "1  1582 CC  126.2 bhp    5.0  12.50  \n",
       "2  1199 CC   88.7 bhp    5.0   4.50  \n",
       "3  1248 CC  88.76 bhp    7.0   6.00  \n",
       "4  1968 CC  140.8 bhp    5.0  17.74  \n",
       "\n",
       "[5 rows x 24 columns]"
      ]
     },
     "execution_count": 45,
     "metadata": {},
     "output_type": "execute_result"
    }
   ],
   "source": [
    "df1.head()"
   ]
  },
  {
   "cell_type": "markdown",
   "id": "737cdde3",
   "metadata": {},
   "source": [
    "### columns comtain units of their measures ,need to be transformed"
   ]
  },
  {
   "cell_type": "code",
   "execution_count": 46,
   "id": "ed41909d",
   "metadata": {},
   "outputs": [],
   "source": [
    "df1['Mileage']=df1['Mileage'].str.replace('km/kg','')\n",
    "df1['Mileage']=df1['Mileage'].str.replace('kmpl','')\n",
    "df1['Power']=df1['Power'].str.replace('bhp','')\n",
    "df1['Engine']=df1['Engine'].str.replace('CC','')\n",
    "df1['Power']=df1['Power'].str.replace('null','0')\n",
    "df1['Engine']=df1['Engine'].str.replace('null','0')"
   ]
  },
  {
   "cell_type": "markdown",
   "id": "839fc060",
   "metadata": {},
   "source": [
    "### columns are still need to be transformed into float or int"
   ]
  },
  {
   "cell_type": "code",
   "execution_count": 47,
   "id": "adc6ac88",
   "metadata": {},
   "outputs": [],
   "source": [
    "df1['Engine']=df1['Engine'].astype(float)\n",
    "df1['Power']=df1['Power'].astype(float)\n",
    "df1['Mileage']=df1['Mileage'].astype(float)"
   ]
  },
  {
   "cell_type": "code",
   "execution_count": 48,
   "id": "ead8b92a",
   "metadata": {},
   "outputs": [
    {
     "data": {
      "text/plain": [
       "Location_Bangalore            0\n",
       "Location_Chennai              0\n",
       "Location_Coimbatore           0\n",
       "Location_Delhi                0\n",
       "Location_Hyderabad            0\n",
       "Location_Jaipur               0\n",
       "Location_Kochi                0\n",
       "Location_Kolkata              0\n",
       "Location_Mumbai               0\n",
       "Location_Pune                 0\n",
       "Fuel_Type_Diesel              0\n",
       "Fuel_Type_LPG                 0\n",
       "Fuel_Type_Petrol              0\n",
       "Transmission_Manual           0\n",
       "Owner_Type_Fourth & Above     0\n",
       "Owner_Type_Second             0\n",
       "Owner_Type_Third              0\n",
       "Year                          0\n",
       "Kilometers_Driven             0\n",
       "Mileage                       2\n",
       "Engine                       36\n",
       "Power                        36\n",
       "Seats                        42\n",
       "Price                         0\n",
       "dtype: int64"
      ]
     },
     "execution_count": 48,
     "metadata": {},
     "output_type": "execute_result"
    }
   ],
   "source": [
    "df1.isnull().sum()"
   ]
  },
  {
   "cell_type": "markdown",
   "id": "45940dc7",
   "metadata": {},
   "source": [
    "### converting 'nan' into zeros"
   ]
  },
  {
   "cell_type": "code",
   "execution_count": 49,
   "id": "2dcd21be",
   "metadata": {},
   "outputs": [
    {
     "data": {
      "text/plain": [
       "Location_Bangalore             0\n",
       "Location_Chennai               0\n",
       "Location_Coimbatore            0\n",
       "Location_Delhi                 0\n",
       "Location_Hyderabad             0\n",
       "Location_Jaipur                0\n",
       "Location_Kochi                 0\n",
       "Location_Kolkata               0\n",
       "Location_Mumbai                0\n",
       "Location_Pune                  0\n",
       "Fuel_Type_Diesel               0\n",
       "Fuel_Type_LPG                  0\n",
       "Fuel_Type_Petrol               0\n",
       "Transmission_Manual            0\n",
       "Owner_Type_Fourth & Above      0\n",
       "Owner_Type_Second              0\n",
       "Owner_Type_Third               0\n",
       "Year                           0\n",
       "Kilometers_Driven              0\n",
       "Mileage                       70\n",
       "Engine                        36\n",
       "Power                        143\n",
       "Seats                         42\n",
       "Price                          0\n",
       "dtype: int64"
      ]
     },
     "execution_count": 49,
     "metadata": {},
     "output_type": "execute_result"
    }
   ],
   "source": [
    "df1.loc[df1.Engine==0,'Engine']=np.NaN\n",
    "df1.loc[df1.Power==0,\"Power\"]=np.NaN\n",
    "df1.loc[df1.Mileage==0,'Mileage']=np.NaN\n",
    "df1.isna().sum()"
   ]
  },
  {
   "cell_type": "markdown",
   "id": "95bf12cf",
   "metadata": {},
   "source": [
    "### going to fill the columns with mean median and mode"
   ]
  },
  {
   "cell_type": "code",
   "execution_count": 50,
   "id": "6b67c567",
   "metadata": {},
   "outputs": [],
   "source": [
    "df1['Engine']=df1[\"Engine\"].fillna(df1['Engine'].mean())\n",
    "df1['Power']=df1['Power'].fillna(df1['Power'].mean())\n",
    "df1['Mileage']=df1['Mileage'].fillna(df1['Mileage'].mean())\n",
    "df1['Seats']=df1[\"Seats\"].fillna(df1['Seats'].mode()[0])"
   ]
  },
  {
   "cell_type": "markdown",
   "id": "e520256f",
   "metadata": {},
   "source": [
    "### our training data is clean, and we need to get our testing data all cleaned \n",
    "### so nxt importing the testing data"
   ]
  },
  {
   "cell_type": "code",
   "execution_count": 51,
   "id": "c57b237e",
   "metadata": {},
   "outputs": [],
   "source": [
    "dj=pd.read_csv('./test-data.csv')"
   ]
  },
  {
   "cell_type": "code",
   "execution_count": 52,
   "id": "32f2319b",
   "metadata": {},
   "outputs": [
    {
     "data": {
      "text/plain": [
       "Mumbai        159\n",
       "Pune          143\n",
       "Coimbatore    136\n",
       "Hyderabad     134\n",
       "Kochi         121\n",
       "Kolkata       119\n",
       "Delhi         106\n",
       "Chennai        97\n",
       "Jaipur         86\n",
       "Bangalore      82\n",
       "Ahmedabad      51\n",
       "Name: Location, dtype: int64"
      ]
     },
     "execution_count": 52,
     "metadata": {},
     "output_type": "execute_result"
    }
   ],
   "source": [
    "djj=dj['Location'].value_counts()\n",
    "djj"
   ]
  },
  {
   "cell_type": "markdown",
   "id": "afd27d07",
   "metadata": {},
   "source": [
    "###  gonna drop the unnecessary columns"
   ]
  },
  {
   "cell_type": "code",
   "execution_count": 53,
   "id": "1cb182c8",
   "metadata": {},
   "outputs": [],
   "source": [
    "dj.drop(['Unnamed: 0','Name','New_Price'],axis=1,inplace=True)"
   ]
  },
  {
   "cell_type": "code",
   "execution_count": 54,
   "id": "f3106a87",
   "metadata": {},
   "outputs": [
    {
     "data": {
      "text/plain": [
       "Location              0\n",
       "Year                  0\n",
       "Kilometers_Driven     0\n",
       "Fuel_Type             0\n",
       "Transmission          0\n",
       "Owner_Type            0\n",
       "Mileage               0\n",
       "Engine               10\n",
       "Power                10\n",
       "Seats                11\n",
       "dtype: int64"
      ]
     },
     "execution_count": 54,
     "metadata": {},
     "output_type": "execute_result"
    }
   ],
   "source": [
    "dj.isna().sum()"
   ]
  },
  {
   "cell_type": "markdown",
   "id": "9de26e3d",
   "metadata": {},
   "source": [
    "### get dummies encoding "
   ]
  },
  {
   "cell_type": "code",
   "execution_count": 55,
   "id": "21bf7ba0",
   "metadata": {},
   "outputs": [],
   "source": [
    "dummy2=pd.get_dummies(dj[['Location','Fuel_Type','Transmission','Owner_Type']], drop_first=True)"
   ]
  },
  {
   "cell_type": "markdown",
   "id": "76daf3db",
   "metadata": {},
   "source": [
    "### combining between the two dataframes"
   ]
  },
  {
   "cell_type": "code",
   "execution_count": 56,
   "id": "d0f80678",
   "metadata": {},
   "outputs": [],
   "source": [
    "dj1=pd.concat([dummy2,dj],axis=1)\n"
   ]
  },
  {
   "cell_type": "markdown",
   "id": "7e9a23df",
   "metadata": {},
   "source": [
    "### removing the unnecessary columns"
   ]
  },
  {
   "cell_type": "code",
   "execution_count": 57,
   "id": "ef2267f2",
   "metadata": {},
   "outputs": [],
   "source": [
    "dj1.drop(['Location','Fuel_Type','Transmission','Owner_Type'],axis=1,inplace=True)"
   ]
  },
  {
   "cell_type": "code",
   "execution_count": 58,
   "id": "587877b3",
   "metadata": {},
   "outputs": [
    {
     "name": "stdout",
     "output_type": "stream",
     "text": [
      "Location_Bangalore           1234\n",
      "Location_Chennai             1234\n",
      "Location_Coimbatore          1234\n",
      "Location_Delhi               1234\n",
      "Location_Hyderabad           1234\n",
      "Location_Jaipur              1234\n",
      "Location_Kochi               1234\n",
      "Location_Kolkata             1234\n",
      "Location_Mumbai              1234\n",
      "Location_Pune                1234\n",
      "Fuel_Type_Diesel             1234\n",
      "Fuel_Type_LPG                1234\n",
      "Fuel_Type_Petrol             1234\n",
      "Transmission_Manual          1234\n",
      "Owner_Type_Fourth & Above    1234\n",
      "Owner_Type_Second            1234\n",
      "Owner_Type_Third             1234\n",
      "Year                         1234\n",
      "Kilometers_Driven            1234\n",
      "Mileage                      1234\n",
      "Engine                       1224\n",
      "Power                        1224\n",
      "Seats                        1223\n",
      "dtype: int64\n"
     ]
    }
   ],
   "source": [
    "print(dj1.count())"
   ]
  },
  {
   "cell_type": "code",
   "execution_count": 59,
   "id": "0fe5a7bd",
   "metadata": {},
   "outputs": [
    {
     "data": {
      "text/plain": [
       "(1234, 23)"
      ]
     },
     "execution_count": 59,
     "metadata": {},
     "output_type": "execute_result"
    }
   ],
   "source": [
    "dj1.shape"
   ]
  },
  {
   "cell_type": "code",
   "execution_count": 60,
   "id": "f5ab2af6",
   "metadata": {},
   "outputs": [
    {
     "data": {
      "text/plain": [
       "(6019, 24)"
      ]
     },
     "execution_count": 60,
     "metadata": {},
     "output_type": "execute_result"
    }
   ],
   "source": [
    "df1.shape"
   ]
  },
  {
   "cell_type": "code",
   "execution_count": 61,
   "id": "26ee43e6",
   "metadata": {},
   "outputs": [
    {
     "data": {
      "text/plain": [
       "Location_Bangalore             uint8\n",
       "Location_Chennai               uint8\n",
       "Location_Coimbatore            uint8\n",
       "Location_Delhi                 uint8\n",
       "Location_Hyderabad             uint8\n",
       "Location_Jaipur                uint8\n",
       "Location_Kochi                 uint8\n",
       "Location_Kolkata               uint8\n",
       "Location_Mumbai                uint8\n",
       "Location_Pune                  uint8\n",
       "Fuel_Type_Diesel               uint8\n",
       "Fuel_Type_LPG                  uint8\n",
       "Fuel_Type_Petrol               uint8\n",
       "Transmission_Manual            uint8\n",
       "Owner_Type_Fourth & Above      uint8\n",
       "Owner_Type_Second              uint8\n",
       "Owner_Type_Third               uint8\n",
       "Year                           int64\n",
       "Kilometers_Driven              int64\n",
       "Mileage                       object\n",
       "Engine                        object\n",
       "Power                         object\n",
       "Seats                        float64\n",
       "dtype: object"
      ]
     },
     "execution_count": 61,
     "metadata": {},
     "output_type": "execute_result"
    }
   ],
   "source": [
    "dj1.dtypes"
   ]
  },
  {
   "cell_type": "code",
   "execution_count": 62,
   "id": "34179dca",
   "metadata": {},
   "outputs": [
    {
     "data": {
      "text/plain": [
       "Location_Bangalore             uint8\n",
       "Location_Chennai               uint8\n",
       "Location_Coimbatore            uint8\n",
       "Location_Delhi                 uint8\n",
       "Location_Hyderabad             uint8\n",
       "Location_Jaipur                uint8\n",
       "Location_Kochi                 uint8\n",
       "Location_Kolkata               uint8\n",
       "Location_Mumbai                uint8\n",
       "Location_Pune                  uint8\n",
       "Fuel_Type_Diesel               uint8\n",
       "Fuel_Type_LPG                  uint8\n",
       "Fuel_Type_Petrol               uint8\n",
       "Transmission_Manual            uint8\n",
       "Owner_Type_Fourth & Above      uint8\n",
       "Owner_Type_Second              uint8\n",
       "Owner_Type_Third               uint8\n",
       "Year                           int64\n",
       "Kilometers_Driven              int64\n",
       "Mileage                      float64\n",
       "Engine                       float64\n",
       "Power                        float64\n",
       "Seats                        float64\n",
       "Price                        float64\n",
       "dtype: object"
      ]
     },
     "execution_count": 62,
     "metadata": {},
     "output_type": "execute_result"
    }
   ],
   "source": [
    "df1.dtypes"
   ]
  },
  {
   "cell_type": "markdown",
   "id": "2813992d",
   "metadata": {},
   "source": [
    "### replace units of certain columns"
   ]
  },
  {
   "cell_type": "code",
   "execution_count": 63,
   "id": "e0e71380",
   "metadata": {},
   "outputs": [],
   "source": [
    "dj1['Engine']=dj1['Engine'].str.replace('CC','')\n",
    "dj1['Mileage']=dj1['Mileage'].str.replace('km/kg','')\n",
    "dj1['Mileage']=dj1['Mileage'].str.replace('kmpl','')\n",
    "dj1['Power']=dj1['Power'].str.replace('bhp','')\n",
    "dj1['Power']=dj1['Power'].str.replace('null','0')\n",
    "dj1['Mileage']=dj1[\"Mileage\"].str.replace('null','0')"
   ]
  },
  {
   "cell_type": "markdown",
   "id": "1570fea3",
   "metadata": {},
   "source": [
    "### converting the remaining columns to integer"
   ]
  },
  {
   "cell_type": "code",
   "execution_count": 64,
   "id": "fa16a14b",
   "metadata": {},
   "outputs": [
    {
     "data": {
      "text/plain": [
       "Location_Bangalore             uint8\n",
       "Location_Chennai               uint8\n",
       "Location_Coimbatore            uint8\n",
       "Location_Delhi                 uint8\n",
       "Location_Hyderabad             uint8\n",
       "Location_Jaipur                uint8\n",
       "Location_Kochi                 uint8\n",
       "Location_Kolkata               uint8\n",
       "Location_Mumbai                uint8\n",
       "Location_Pune                  uint8\n",
       "Fuel_Type_Diesel               uint8\n",
       "Fuel_Type_LPG                  uint8\n",
       "Fuel_Type_Petrol               uint8\n",
       "Transmission_Manual            uint8\n",
       "Owner_Type_Fourth & Above      uint8\n",
       "Owner_Type_Second              uint8\n",
       "Owner_Type_Third               uint8\n",
       "Year                           int64\n",
       "Kilometers_Driven              int64\n",
       "Mileage                      float64\n",
       "Engine                       float64\n",
       "Power                        float64\n",
       "Seats                        float64\n",
       "dtype: object"
      ]
     },
     "execution_count": 64,
     "metadata": {},
     "output_type": "execute_result"
    }
   ],
   "source": [
    "dj1['Engine']=dj1['Engine'].astype(float)\n",
    "dj1['Power']=dj1['Power'].astype(float)\n",
    "dj1['Mileage']=dj1['Mileage'].astype(float)\n",
    "dj1.isna().sum()\n",
    "dj1.dtypes\n"
   ]
  },
  {
   "cell_type": "markdown",
   "id": "91e63c59",
   "metadata": {},
   "source": [
    "### 'NaN' with zeros"
   ]
  },
  {
   "cell_type": "code",
   "execution_count": 65,
   "id": "150ac47a",
   "metadata": {},
   "outputs": [
    {
     "data": {
      "text/plain": [
       "Location_Bangalore            0\n",
       "Location_Chennai              0\n",
       "Location_Coimbatore           0\n",
       "Location_Delhi                0\n",
       "Location_Hyderabad            0\n",
       "Location_Jaipur               0\n",
       "Location_Kochi                0\n",
       "Location_Kolkata              0\n",
       "Location_Mumbai               0\n",
       "Location_Pune                 0\n",
       "Fuel_Type_Diesel              0\n",
       "Fuel_Type_LPG                 0\n",
       "Fuel_Type_Petrol              0\n",
       "Transmission_Manual           0\n",
       "Owner_Type_Fourth & Above     0\n",
       "Owner_Type_Second             0\n",
       "Owner_Type_Third              0\n",
       "Year                          0\n",
       "Kilometers_Driven             0\n",
       "Mileage                      13\n",
       "Engine                       10\n",
       "Power                        32\n",
       "Seats                        11\n",
       "dtype: int64"
      ]
     },
     "execution_count": 65,
     "metadata": {},
     "output_type": "execute_result"
    }
   ],
   "source": [
    "dj1.loc[dj1.Engine==0,'Engine']=np.NaN\n",
    "dj1.loc[dj1.Power==0,'Power']=np.NaN\n",
    "dj1.loc[dj1.Mileage==0,'Mileage']=np.NaN\n",
    "dj1.isna().sum()"
   ]
  },
  {
   "cell_type": "markdown",
   "id": "2f12f010",
   "metadata": {},
   "source": [
    "### filling missing with mean ,median,mode"
   ]
  },
  {
   "cell_type": "code",
   "execution_count": 66,
   "id": "524b96c1",
   "metadata": {},
   "outputs": [
    {
     "data": {
      "text/plain": [
       "Location_Bangalore             uint8\n",
       "Location_Chennai               uint8\n",
       "Location_Coimbatore            uint8\n",
       "Location_Delhi                 uint8\n",
       "Location_Hyderabad             uint8\n",
       "Location_Jaipur                uint8\n",
       "Location_Kochi                 uint8\n",
       "Location_Kolkata               uint8\n",
       "Location_Mumbai                uint8\n",
       "Location_Pune                  uint8\n",
       "Fuel_Type_Diesel               uint8\n",
       "Fuel_Type_LPG                  uint8\n",
       "Fuel_Type_Petrol               uint8\n",
       "Transmission_Manual            uint8\n",
       "Owner_Type_Fourth & Above      uint8\n",
       "Owner_Type_Second              uint8\n",
       "Owner_Type_Third               uint8\n",
       "Year                           int64\n",
       "Kilometers_Driven              int64\n",
       "Mileage                      float64\n",
       "Engine                       float64\n",
       "Power                        float64\n",
       "Seats                        float64\n",
       "dtype: object"
      ]
     },
     "execution_count": 66,
     "metadata": {},
     "output_type": "execute_result"
    }
   ],
   "source": [
    "dj1['Engine']=dj1[\"Engine\"].fillna(dj1['Engine'].mean())\n",
    "dj1['Mileage']=dj1['Mileage'].fillna(dj1['Mileage'].mean())\n",
    "dj1['Power']=dj1['Power'].fillna(dj1['Power'].mean())\n",
    "dj1['Seats']=dj1['Seats'].fillna(dj1['Seats'].mean())\n",
    "dj1.isna().sum()\n",
    "dj1.dtypes\n"
   ]
  },
  {
   "cell_type": "markdown",
   "id": "09b75d22",
   "metadata": {},
   "source": [
    "### training data is also clean and now gonna split testing data into input and output data"
   ]
  },
  {
   "cell_type": "code",
   "execution_count": 67,
   "id": "8d0b3a30",
   "metadata": {},
   "outputs": [
    {
     "data": {
      "text/html": [
       "<div>\n",
       "<style scoped>\n",
       "    .dataframe tbody tr th:only-of-type {\n",
       "        vertical-align: middle;\n",
       "    }\n",
       "\n",
       "    .dataframe tbody tr th {\n",
       "        vertical-align: top;\n",
       "    }\n",
       "\n",
       "    .dataframe thead th {\n",
       "        text-align: right;\n",
       "    }\n",
       "</style>\n",
       "<table border=\"1\" class=\"dataframe\">\n",
       "  <thead>\n",
       "    <tr style=\"text-align: right;\">\n",
       "      <th></th>\n",
       "      <th>Location_Bangalore</th>\n",
       "      <th>Location_Chennai</th>\n",
       "      <th>Location_Coimbatore</th>\n",
       "      <th>Location_Delhi</th>\n",
       "      <th>Location_Hyderabad</th>\n",
       "      <th>Location_Jaipur</th>\n",
       "      <th>Location_Kochi</th>\n",
       "      <th>Location_Kolkata</th>\n",
       "      <th>Location_Mumbai</th>\n",
       "      <th>Location_Pune</th>\n",
       "      <th>...</th>\n",
       "      <th>Transmission_Manual</th>\n",
       "      <th>Owner_Type_Fourth &amp; Above</th>\n",
       "      <th>Owner_Type_Second</th>\n",
       "      <th>Owner_Type_Third</th>\n",
       "      <th>Year</th>\n",
       "      <th>Kilometers_Driven</th>\n",
       "      <th>Mileage</th>\n",
       "      <th>Engine</th>\n",
       "      <th>Power</th>\n",
       "      <th>Seats</th>\n",
       "    </tr>\n",
       "  </thead>\n",
       "  <tbody>\n",
       "    <tr>\n",
       "      <th>0</th>\n",
       "      <td>0</td>\n",
       "      <td>0</td>\n",
       "      <td>0</td>\n",
       "      <td>0</td>\n",
       "      <td>0</td>\n",
       "      <td>0</td>\n",
       "      <td>0</td>\n",
       "      <td>0</td>\n",
       "      <td>1</td>\n",
       "      <td>0</td>\n",
       "      <td>...</td>\n",
       "      <td>1</td>\n",
       "      <td>0</td>\n",
       "      <td>0</td>\n",
       "      <td>0</td>\n",
       "      <td>2010</td>\n",
       "      <td>72000</td>\n",
       "      <td>26.60</td>\n",
       "      <td>998.0</td>\n",
       "      <td>58.16</td>\n",
       "      <td>5.0</td>\n",
       "    </tr>\n",
       "    <tr>\n",
       "      <th>1</th>\n",
       "      <td>0</td>\n",
       "      <td>0</td>\n",
       "      <td>0</td>\n",
       "      <td>0</td>\n",
       "      <td>0</td>\n",
       "      <td>0</td>\n",
       "      <td>0</td>\n",
       "      <td>0</td>\n",
       "      <td>0</td>\n",
       "      <td>1</td>\n",
       "      <td>...</td>\n",
       "      <td>1</td>\n",
       "      <td>0</td>\n",
       "      <td>0</td>\n",
       "      <td>0</td>\n",
       "      <td>2015</td>\n",
       "      <td>41000</td>\n",
       "      <td>19.67</td>\n",
       "      <td>1582.0</td>\n",
       "      <td>126.20</td>\n",
       "      <td>5.0</td>\n",
       "    </tr>\n",
       "    <tr>\n",
       "      <th>2</th>\n",
       "      <td>0</td>\n",
       "      <td>1</td>\n",
       "      <td>0</td>\n",
       "      <td>0</td>\n",
       "      <td>0</td>\n",
       "      <td>0</td>\n",
       "      <td>0</td>\n",
       "      <td>0</td>\n",
       "      <td>0</td>\n",
       "      <td>0</td>\n",
       "      <td>...</td>\n",
       "      <td>1</td>\n",
       "      <td>0</td>\n",
       "      <td>0</td>\n",
       "      <td>0</td>\n",
       "      <td>2011</td>\n",
       "      <td>46000</td>\n",
       "      <td>18.20</td>\n",
       "      <td>1199.0</td>\n",
       "      <td>88.70</td>\n",
       "      <td>5.0</td>\n",
       "    </tr>\n",
       "    <tr>\n",
       "      <th>3</th>\n",
       "      <td>0</td>\n",
       "      <td>1</td>\n",
       "      <td>0</td>\n",
       "      <td>0</td>\n",
       "      <td>0</td>\n",
       "      <td>0</td>\n",
       "      <td>0</td>\n",
       "      <td>0</td>\n",
       "      <td>0</td>\n",
       "      <td>0</td>\n",
       "      <td>...</td>\n",
       "      <td>1</td>\n",
       "      <td>0</td>\n",
       "      <td>0</td>\n",
       "      <td>0</td>\n",
       "      <td>2012</td>\n",
       "      <td>87000</td>\n",
       "      <td>20.77</td>\n",
       "      <td>1248.0</td>\n",
       "      <td>88.76</td>\n",
       "      <td>7.0</td>\n",
       "    </tr>\n",
       "    <tr>\n",
       "      <th>4</th>\n",
       "      <td>0</td>\n",
       "      <td>0</td>\n",
       "      <td>1</td>\n",
       "      <td>0</td>\n",
       "      <td>0</td>\n",
       "      <td>0</td>\n",
       "      <td>0</td>\n",
       "      <td>0</td>\n",
       "      <td>0</td>\n",
       "      <td>0</td>\n",
       "      <td>...</td>\n",
       "      <td>0</td>\n",
       "      <td>0</td>\n",
       "      <td>1</td>\n",
       "      <td>0</td>\n",
       "      <td>2013</td>\n",
       "      <td>40670</td>\n",
       "      <td>15.20</td>\n",
       "      <td>1968.0</td>\n",
       "      <td>140.80</td>\n",
       "      <td>5.0</td>\n",
       "    </tr>\n",
       "    <tr>\n",
       "      <th>...</th>\n",
       "      <td>...</td>\n",
       "      <td>...</td>\n",
       "      <td>...</td>\n",
       "      <td>...</td>\n",
       "      <td>...</td>\n",
       "      <td>...</td>\n",
       "      <td>...</td>\n",
       "      <td>...</td>\n",
       "      <td>...</td>\n",
       "      <td>...</td>\n",
       "      <td>...</td>\n",
       "      <td>...</td>\n",
       "      <td>...</td>\n",
       "      <td>...</td>\n",
       "      <td>...</td>\n",
       "      <td>...</td>\n",
       "      <td>...</td>\n",
       "      <td>...</td>\n",
       "      <td>...</td>\n",
       "      <td>...</td>\n",
       "      <td>...</td>\n",
       "    </tr>\n",
       "    <tr>\n",
       "      <th>6014</th>\n",
       "      <td>0</td>\n",
       "      <td>0</td>\n",
       "      <td>0</td>\n",
       "      <td>1</td>\n",
       "      <td>0</td>\n",
       "      <td>0</td>\n",
       "      <td>0</td>\n",
       "      <td>0</td>\n",
       "      <td>0</td>\n",
       "      <td>0</td>\n",
       "      <td>...</td>\n",
       "      <td>1</td>\n",
       "      <td>0</td>\n",
       "      <td>0</td>\n",
       "      <td>0</td>\n",
       "      <td>2014</td>\n",
       "      <td>27365</td>\n",
       "      <td>28.40</td>\n",
       "      <td>1248.0</td>\n",
       "      <td>74.00</td>\n",
       "      <td>5.0</td>\n",
       "    </tr>\n",
       "    <tr>\n",
       "      <th>6015</th>\n",
       "      <td>0</td>\n",
       "      <td>0</td>\n",
       "      <td>0</td>\n",
       "      <td>0</td>\n",
       "      <td>0</td>\n",
       "      <td>1</td>\n",
       "      <td>0</td>\n",
       "      <td>0</td>\n",
       "      <td>0</td>\n",
       "      <td>0</td>\n",
       "      <td>...</td>\n",
       "      <td>1</td>\n",
       "      <td>0</td>\n",
       "      <td>0</td>\n",
       "      <td>0</td>\n",
       "      <td>2015</td>\n",
       "      <td>100000</td>\n",
       "      <td>24.40</td>\n",
       "      <td>1120.0</td>\n",
       "      <td>71.00</td>\n",
       "      <td>5.0</td>\n",
       "    </tr>\n",
       "    <tr>\n",
       "      <th>6016</th>\n",
       "      <td>0</td>\n",
       "      <td>0</td>\n",
       "      <td>0</td>\n",
       "      <td>0</td>\n",
       "      <td>0</td>\n",
       "      <td>1</td>\n",
       "      <td>0</td>\n",
       "      <td>0</td>\n",
       "      <td>0</td>\n",
       "      <td>0</td>\n",
       "      <td>...</td>\n",
       "      <td>1</td>\n",
       "      <td>0</td>\n",
       "      <td>1</td>\n",
       "      <td>0</td>\n",
       "      <td>2012</td>\n",
       "      <td>55000</td>\n",
       "      <td>14.00</td>\n",
       "      <td>2498.0</td>\n",
       "      <td>112.00</td>\n",
       "      <td>8.0</td>\n",
       "    </tr>\n",
       "    <tr>\n",
       "      <th>6017</th>\n",
       "      <td>0</td>\n",
       "      <td>0</td>\n",
       "      <td>0</td>\n",
       "      <td>0</td>\n",
       "      <td>0</td>\n",
       "      <td>0</td>\n",
       "      <td>0</td>\n",
       "      <td>1</td>\n",
       "      <td>0</td>\n",
       "      <td>0</td>\n",
       "      <td>...</td>\n",
       "      <td>1</td>\n",
       "      <td>0</td>\n",
       "      <td>0</td>\n",
       "      <td>0</td>\n",
       "      <td>2013</td>\n",
       "      <td>46000</td>\n",
       "      <td>18.90</td>\n",
       "      <td>998.0</td>\n",
       "      <td>67.10</td>\n",
       "      <td>5.0</td>\n",
       "    </tr>\n",
       "    <tr>\n",
       "      <th>6018</th>\n",
       "      <td>0</td>\n",
       "      <td>0</td>\n",
       "      <td>0</td>\n",
       "      <td>0</td>\n",
       "      <td>1</td>\n",
       "      <td>0</td>\n",
       "      <td>0</td>\n",
       "      <td>0</td>\n",
       "      <td>0</td>\n",
       "      <td>0</td>\n",
       "      <td>...</td>\n",
       "      <td>1</td>\n",
       "      <td>0</td>\n",
       "      <td>0</td>\n",
       "      <td>0</td>\n",
       "      <td>2011</td>\n",
       "      <td>47000</td>\n",
       "      <td>25.44</td>\n",
       "      <td>936.0</td>\n",
       "      <td>57.60</td>\n",
       "      <td>5.0</td>\n",
       "    </tr>\n",
       "  </tbody>\n",
       "</table>\n",
       "<p>6019 rows × 23 columns</p>\n",
       "</div>"
      ],
      "text/plain": [
       "      Location_Bangalore  Location_Chennai  Location_Coimbatore  \\\n",
       "0                      0                 0                    0   \n",
       "1                      0                 0                    0   \n",
       "2                      0                 1                    0   \n",
       "3                      0                 1                    0   \n",
       "4                      0                 0                    1   \n",
       "...                  ...               ...                  ...   \n",
       "6014                   0                 0                    0   \n",
       "6015                   0                 0                    0   \n",
       "6016                   0                 0                    0   \n",
       "6017                   0                 0                    0   \n",
       "6018                   0                 0                    0   \n",
       "\n",
       "      Location_Delhi  Location_Hyderabad  Location_Jaipur  Location_Kochi  \\\n",
       "0                  0                   0                0               0   \n",
       "1                  0                   0                0               0   \n",
       "2                  0                   0                0               0   \n",
       "3                  0                   0                0               0   \n",
       "4                  0                   0                0               0   \n",
       "...              ...                 ...              ...             ...   \n",
       "6014               1                   0                0               0   \n",
       "6015               0                   0                1               0   \n",
       "6016               0                   0                1               0   \n",
       "6017               0                   0                0               0   \n",
       "6018               0                   1                0               0   \n",
       "\n",
       "      Location_Kolkata  Location_Mumbai  Location_Pune  ...  \\\n",
       "0                    0                1              0  ...   \n",
       "1                    0                0              1  ...   \n",
       "2                    0                0              0  ...   \n",
       "3                    0                0              0  ...   \n",
       "4                    0                0              0  ...   \n",
       "...                ...              ...            ...  ...   \n",
       "6014                 0                0              0  ...   \n",
       "6015                 0                0              0  ...   \n",
       "6016                 0                0              0  ...   \n",
       "6017                 1                0              0  ...   \n",
       "6018                 0                0              0  ...   \n",
       "\n",
       "      Transmission_Manual  Owner_Type_Fourth & Above  Owner_Type_Second  \\\n",
       "0                       1                          0                  0   \n",
       "1                       1                          0                  0   \n",
       "2                       1                          0                  0   \n",
       "3                       1                          0                  0   \n",
       "4                       0                          0                  1   \n",
       "...                   ...                        ...                ...   \n",
       "6014                    1                          0                  0   \n",
       "6015                    1                          0                  0   \n",
       "6016                    1                          0                  1   \n",
       "6017                    1                          0                  0   \n",
       "6018                    1                          0                  0   \n",
       "\n",
       "      Owner_Type_Third  Year  Kilometers_Driven  Mileage  Engine   Power  \\\n",
       "0                    0  2010              72000    26.60   998.0   58.16   \n",
       "1                    0  2015              41000    19.67  1582.0  126.20   \n",
       "2                    0  2011              46000    18.20  1199.0   88.70   \n",
       "3                    0  2012              87000    20.77  1248.0   88.76   \n",
       "4                    0  2013              40670    15.20  1968.0  140.80   \n",
       "...                ...   ...                ...      ...     ...     ...   \n",
       "6014                 0  2014              27365    28.40  1248.0   74.00   \n",
       "6015                 0  2015             100000    24.40  1120.0   71.00   \n",
       "6016                 0  2012              55000    14.00  2498.0  112.00   \n",
       "6017                 0  2013              46000    18.90   998.0   67.10   \n",
       "6018                 0  2011              47000    25.44   936.0   57.60   \n",
       "\n",
       "      Seats  \n",
       "0       5.0  \n",
       "1       5.0  \n",
       "2       5.0  \n",
       "3       7.0  \n",
       "4       5.0  \n",
       "...     ...  \n",
       "6014    5.0  \n",
       "6015    5.0  \n",
       "6016    8.0  \n",
       "6017    5.0  \n",
       "6018    5.0  \n",
       "\n",
       "[6019 rows x 23 columns]"
      ]
     },
     "execution_count": 67,
     "metadata": {},
     "output_type": "execute_result"
    }
   ],
   "source": [
    "x=df1.iloc[:,:-1]\n",
    "y=df1.iloc[:,-1]\n",
    "x"
   ]
  },
  {
   "cell_type": "code",
   "execution_count": 68,
   "id": "d051e354",
   "metadata": {},
   "outputs": [
    {
     "data": {
      "text/plain": [
       "0        1.75\n",
       "1       12.50\n",
       "2        4.50\n",
       "3        6.00\n",
       "4       17.74\n",
       "        ...  \n",
       "6014     4.75\n",
       "6015     4.00\n",
       "6016     2.90\n",
       "6017     2.65\n",
       "6018     2.50\n",
       "Name: Price, Length: 6019, dtype: float64"
      ]
     },
     "execution_count": 68,
     "metadata": {},
     "output_type": "execute_result"
    }
   ],
   "source": [
    "y"
   ]
  },
  {
   "cell_type": "markdown",
   "id": "bbb0c202",
   "metadata": {},
   "source": [
    "### gonna create model for predicting the train data"
   ]
  },
  {
   "cell_type": "code",
   "execution_count": 69,
   "id": "d3dc4db5",
   "metadata": {},
   "outputs": [
    {
     "data": {
      "text/plain": [
       "array([ 2.87588492, -1.29344912, 16.1069494 , ...,  0.1378514 ,\n",
       "        9.27293255, 21.48043251])"
      ]
     },
     "execution_count": 69,
     "metadata": {},
     "output_type": "execute_result"
    }
   ],
   "source": [
    "from sklearn.linear_model import LinearRegression\n",
    "reg= LinearRegression()\n",
    "reg.fit(x,y)\n",
    "ypred=reg.predict(dj1)\n",
    "ypred"
   ]
  },
  {
   "cell_type": "markdown",
   "id": "17319bed",
   "metadata": {},
   "source": [
    "### we predicted the data that was available with help of some data that we had and we made model from the same."
   ]
  }
 ],
 "metadata": {
  "celltoolbar": "Raw Cell Format",
  "kernelspec": {
   "display_name": "Python 3 (ipykernel)",
   "language": "python",
   "name": "python3"
  },
  "language_info": {
   "codemirror_mode": {
    "name": "ipython",
    "version": 3
   },
   "file_extension": ".py",
   "mimetype": "text/x-python",
   "name": "python",
   "nbconvert_exporter": "python",
   "pygments_lexer": "ipython3",
   "version": "3.8.10"
  }
 },
 "nbformat": 4,
 "nbformat_minor": 5
}
